{
 "cells": [
  {
   "cell_type": "code",
   "execution_count": 1,
   "metadata": {
    "collapsed": true
   },
   "outputs": [],
   "source": [
    "import os\n",
    "\n",
    "os.environ['KMP_DUPLICATE_LIB_OK'] = 'TRUE'\n",
    "\n",
    "import collections\n",
    "import easyocr\n",
    "import fitz\n",
    "import hashlib\n",
    "import numpy as np\n",
    "import string\n",
    "import time\n",
    "import redis\n",
    "import json\n",
    "from minio import Minio\n",
    "from PIL import Image, ImageDraw, ImageFont\n",
    "from fontTools.ttLib import TTFont"
   ]
  },
  {
   "cell_type": "code",
   "execution_count": 3,
   "outputs": [
    {
     "name": "stdout",
     "output_type": "stream",
     "text": [
      "Loading OCR model... [Completed]\n",
      "Minio connected, bucket found\n"
     ]
    }
   ],
   "source": [
    "# Define system variable\n",
    "print(\"Loading OCR model...\", end=' ')\n",
    "reader = easyocr.Reader([], gpu=True)  # OCR tool\n",
    "chars = list(string.digits + string.ascii_letters)  # Get list possible character\n",
    "print(\"[Completed]\")\n",
    "\n",
    "client = Minio(\n",
    "    endpoint=\"localhost:9000\",\n",
    "    secure=False,\n",
    "    access_key=\"p8bBrkOUX3JXTDus\",\n",
    "    secret_key=\"rimJyqs5zNrNhj55nmU6wEVga6SUUkRD\",\n",
    ")\n",
    "print(\"Minio connected,\", \"bucket found\" if client.bucket_exists(\"documents\") else \"bucket not found\")"
   ],
   "metadata": {
    "collapsed": false
   }
  },
  {
   "cell_type": "code",
   "execution_count": 40,
   "outputs": [],
   "source": [
    "# Define reusable function\n",
    "def char_in_font(unicode_char, font):\n",
    "    if 'cmap' not in font.keys():\n",
    "        return False\n",
    "\n",
    "    for cmap in font['cmap'].tables:\n",
    "        if cmap.isUnicode():\n",
    "            if ord(unicode_char) in cmap.cmap:\n",
    "                return True\n",
    "    return False\n",
    "\n",
    "\n",
    "def draw_char(char, typeface, size):\n",
    "    # Set canvas size\n",
    "    W, H = (int(size * 1.5) * 3, size)\n",
    "    # Set font\n",
    "    font = ImageFont.truetype(typeface, size)\n",
    "    # Make empty image\n",
    "    img = Image.new('RGB', (W, H), color='#969696')\n",
    "    # Draw text to image\n",
    "    draw = ImageDraw.Draw(img)\n",
    "    _, _, w, h = font.getbbox(char)\n",
    "    draw.text(((W - w) / 2, (H - h) / 2 - size / 8), char, fill='#696969', font=font)\n",
    "\n",
    "    return np.asarray(img)\n",
    "\n",
    "\n",
    "def generate_text(_char):\n",
    "    return _char * 4"
   ],
   "metadata": {
    "collapsed": false
   }
  },
  {
   "cell_type": "code",
   "execution_count": 43,
   "outputs": [],
   "source": [
    "pdfname = \"input.pdf\"\n",
    "# Download file from Minio\n",
    "pdfpath = \"tmps/\" + pdfname\n",
    "\n",
    "# Open file\n",
    "pdf = fitz.open(pdfpath)\n",
    "data = {\n",
    "    'fonts': {},\n",
    "    'pages': [],\n",
    "}"
   ],
   "metadata": {
    "collapsed": false
   }
  },
  {
   "cell_type": "code",
   "execution_count": 44,
   "outputs": [
    {
     "name": "stdout",
     "output_type": "stream",
     "text": [
      "14040\n"
     ]
    },
    {
     "data": {
      "text/plain": "[('5b84e7224d4cb8ae721cf57b1df2df12.ttf', 'Fake TNR Font 1')]"
     },
     "execution_count": 44,
     "metadata": {},
     "output_type": "execute_result"
    }
   ],
   "source": [
    "# Get all fonts across document\n",
    "fonts = list({el for i in range(pdf.page_count) for el in pdf.get_page_fonts(i)})\n",
    "embedded_fonts = []\n",
    "\n",
    "# Loop through fonts\n",
    "for font in fonts:\n",
    "    # Extract font\n",
    "    name, ext, _, content = pdf.extract_font(font[0])\n",
    "    name = name.split('+')[-1]\n",
    "\n",
    "    # If font is embedded\n",
    "    # if ext != 'n/a' and \"TNR\" in name:\n",
    "    if ext == 'ttf':\n",
    "        # Write fonts\n",
    "        filename = hashlib.md5(name.encode('utf-8')).hexdigest() + '.' + ext  # Generate filename\n",
    "        f = open('tmps/' + filename, 'wb')  # Open file\n",
    "        print(len(content))\n",
    "        f.write(content)  # Write content\n",
    "        f.close()  # Close file\n",
    "\n",
    "        # Append to array\n",
    "        embedded_fonts.append((filename, name))\n",
    "\n",
    "embedded_fonts"
   ],
   "metadata": {
    "collapsed": false
   }
  },
  {
   "cell_type": "code",
   "execution_count": 52,
   "outputs": [
    {
     "data": {
      "text/plain": "<Figure size 640x480 with 1 Axes>",
      "image/png": "[encoded data removed]"
     },
     "metadata": {},
     "output_type": "display_data"
    }
   ],
   "source": [
    "from matplotlib import pyplot as plt\n",
    "\n",
    "img = draw_char(generate_text(\"B\"), 'tmps/5b84e7224d4cb8ae721cf57b1df2df12.ttf', 250)\n",
    "plt.imshow(img)\n",
    "plt.show()"
   ],
   "metadata": {
    "collapsed": false
   }
  },
  {
   "cell_type": "code",
   "execution_count": 53,
   "outputs": [
    {
     "data": {
      "text/plain": "[(13, 'n/a', 'TrueType', 'Arial,Bold', 'F5', 'WinAnsiEncoding'),\n (11, 'n/a', 'TrueType', 'Times New Roman,Italic', 'F4', 'WinAnsiEncoding'),\n (5, 'n/a', 'TrueType', 'Times New Roman,Bold', 'F1', 'WinAnsiEncoding'),\n (9, 'ttf', 'TrueType', 'ABCDEE+Fake TNR Font 1', 'F3', 'WinAnsiEncoding'),\n (7, 'n/a', 'TrueType', 'Times New Roman', 'F2', 'WinAnsiEncoding')]"
     },
     "execution_count": 53,
     "metadata": {},
     "output_type": "execute_result"
    }
   ],
   "source": [
    "fonts"
   ],
   "metadata": {
    "collapsed": false
   }
  },
  {
   "cell_type": "code",
   "execution_count": 54,
   "outputs": [
    {
     "name": "stdout",
     "output_type": "stream",
     "text": [
      "Fake TNR Font 1\n",
      "0 True\n",
      "1 True\n",
      "2 True\n",
      "3 True\n",
      "4 True\n",
      "5 True\n",
      "6 True\n",
      "7 True\n",
      "8 True\n",
      "9 True\n",
      "a True\n",
      "b True\n",
      "c True\n",
      "d True\n",
      "e True\n",
      "f True\n",
      "g True\n",
      "h True\n",
      "i True\n",
      "j True\n",
      "k True\n",
      "l True\n",
      "m True\n",
      "n True\n",
      "o True\n",
      "p True\n",
      "q True\n",
      "r True\n",
      "s True\n",
      "t True\n",
      "u True\n",
      "v True\n",
      "w True\n",
      "x True\n",
      "y True\n",
      "z True\n",
      "A True\n",
      "B True\n",
      "C True\n",
      "D True\n",
      "E True\n",
      "F True\n",
      "G True\n",
      "H True\n",
      "I True\n",
      "J True\n",
      "K True\n",
      "L True\n",
      "M True\n",
      "N True\n",
      "O True\n",
      "P True\n",
      "Q True\n",
      "R True\n",
      "S True\n",
      "T True\n",
      "U True\n",
      "V True\n",
      "W True\n",
      "X True\n",
      "Y True\n",
      "Z True\n"
     ]
    },
    {
     "data": {
      "text/plain": "{'fonts': {'Fake TNR Font 1': {}}, 'pages': []}"
     },
     "execution_count": 54,
     "metadata": {},
     "output_type": "execute_result"
    }
   ],
   "source": [
    "# Setup problematic font map\n",
    "hashmap = {}\n",
    "\n",
    "# Loop through embedded fonts\n",
    "for filename, fontname in embedded_fonts:\n",
    "    font = TTFont('tmps/' + filename)\n",
    "    print(fontname)\n",
    "    hashmap[fontname] = {}\n",
    "\n",
    "    # Loop through characters\n",
    "    for char in chars:\n",
    "        print(char, char_in_font(char, font))\n",
    "    #     if not char_in_font(char, font):\n",
    "    #         continue\n",
    "    #\n",
    "    #     # Render characters\n",
    "    #     img = draw_char(generate_text(char), 'tmps/' + filename, 250)\n",
    "    #     # Detect characters with OCR\n",
    "    #     result = reader.readtext(img, allowlist=chars)\n",
    "    #\n",
    "    #     # If character detected\n",
    "    #     if len(result) > 0:\n",
    "    #         # Calculate most character appear\n",
    "    #         most_char, total = collections.Counter(result[0][1]).most_common(1)[0]\n",
    "    #         # If char not the same\n",
    "    #         if most_char.lower() != char.lower():\n",
    "    #             # Add to hash map\n",
    "    #             hashmap[fontname][char] = True\n",
    "\n",
    "    # if len(hashmap[fontname].keys()) == 0:\n",
    "    #     del hashmap[fontname]\n",
    "\n",
    "# Set hashmap to data\n",
    "data['fonts'] = hashmap\n",
    "data"
   ],
   "metadata": {
    "collapsed": false
   }
  },
  {
   "cell_type": "code",
   "execution_count": 55,
   "outputs": [
    {
     "data": {
      "text/plain": "True"
     },
     "execution_count": 55,
     "metadata": {},
     "output_type": "execute_result"
    }
   ],
   "source": [
    "char_in_font('5', font)"
   ],
   "metadata": {
    "collapsed": false
   }
  },
  {
   "cell_type": "code",
   "execution_count": 56,
   "outputs": [],
   "source": [
    "# Loop through pages\n",
    "for page in pdf:\n",
    "    page_width, page_height = page.mediabox_size  # Get page width and height\n",
    "    result = page.get_text('rawdict')  # read page text as a dictionary\n",
    "\n",
    "    items = []\n",
    "    for block in result['blocks']:  # iterate through the text blocks\n",
    "        if 'lines' not in block.keys():\n",
    "            continue\n",
    "\n",
    "        for line in block['lines']:  # iterate through the text lines\n",
    "            for span in line['spans']:  # iterate through the text spans\n",
    "                for char in span['chars']:  # iterate through text chars\n",
    "                    if span['font'] in hashmap and char['c'] in hashmap[span['font']]:\n",
    "                        items.append({\n",
    "                            'font': span['font'],\n",
    "                            'char': char['c'],\n",
    "                            'rect': {\n",
    "                                'x0': char['bbox'][0],\n",
    "                                'y0': char['bbox'][1],\n",
    "                                'x1': char['bbox'][2],\n",
    "                                'y1': char['bbox'][3]\n",
    "                            }\n",
    "                        })\n",
    "\n",
    "    if len(items) > 0:\n",
    "        data['pages'].append({\n",
    "            'page': page.number,\n",
    "            'page_width': page_width,\n",
    "            'page_height': page_height,\n",
    "            'items': items\n",
    "        })"
   ],
   "metadata": {
    "collapsed": false
   }
  },
  {
   "cell_type": "code",
   "execution_count": 57,
   "outputs": [],
   "source": [
    "# Close resource\n",
    "pdf.close()"
   ],
   "metadata": {
    "collapsed": false
   }
  },
  {
   "cell_type": "code",
   "execution_count": null,
   "outputs": [],
   "source": [],
   "metadata": {
    "collapsed": false
   }
  }
 ],
 "metadata": {
  "kernelspec": {
   "display_name": "Python 3",
   "language": "python",
   "name": "python3"
  },
  "language_info": {
   "codemirror_mode": {
    "name": "ipython",
    "version": 2
   },
   "file_extension": ".py",
   "mimetype": "text/x-python",
   "name": "python",
   "nbconvert_exporter": "python",
   "pygments_lexer": "ipython2",
   "version": "2.7.6"
  }
 },
 "nbformat": 4,
 "nbformat_minor": 0
}
