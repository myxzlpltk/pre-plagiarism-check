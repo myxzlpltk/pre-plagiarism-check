{
 "cells": [
  {
   "cell_type": "code",
   "execution_count": 1,
   "metadata": {
    "collapsed": true
   },
   "outputs": [
    {
     "name": "stdout",
     "output_type": "stream",
     "text": [
      "{'v': 'v', 'w': 'r', 'x': 'l', 'l': 'x', 'r': 'w'}\n"
     ]
    }
   ],
   "source": [
    "import string\n",
    "import random\n",
    "\n",
    "letters = list(string.ascii_lowercase)\n",
    "random.shuffle(letters)\n",
    "\n",
    "random_letters = letters[:5]\n",
    "letters = letters[:5]\n",
    "\n",
    "random.shuffle(random_letters)\n",
    "swaps = dict(zip(letters, random_letters))\n",
    "print(swaps)"
   ]
  },
  {
   "cell_type": "code",
   "execution_count": 2,
   "outputs": [],
   "source": [
    "from fontTools import ttLib\n",
    "import copy\n",
    "\n",
    "font_path = '../input/times.ttf'\n",
    "font_output = '../exports/times.ttf'\n",
    "\n",
    "font = ttLib.TTFont(font_path)\n",
    "original_font = copy.deepcopy(font)\n",
    "\n",
    "for key, value in swaps.items():\n",
    "    font['glyf'][key] = original_font['glyf'][value]  # Swap glyph\n",
    "    font['hmtx'].metrics[key] = original_font['hmtx'].metrics[value] # Swap metric\n",
    "\n",
    "font.save(font_output)"
   ],
   "metadata": {
    "collapsed": false
   }
  },
  {
   "cell_type": "code",
   "execution_count": 18,
   "outputs": [
    {
     "data": {
      "text/plain": "Font('Times New Roman Regular')"
     },
     "execution_count": 18,
     "metadata": {},
     "output_type": "execute_result"
    }
   ],
   "source": [
    "import fitz\n",
    "\n",
    "pdf_font = fitz.Font('Times New Roman Fake', '../exports/times.ttf')\n",
    "pdf_font"
   ],
   "metadata": {
    "collapsed": false
   }
  },
  {
   "cell_type": "code",
   "execution_count": null,
   "outputs": [],
   "source": [],
   "metadata": {
    "collapsed": false
   }
  }
 ],
 "metadata": {
  "kernelspec": {
   "display_name": "Python 3",
   "language": "python",
   "name": "python3"
  },
  "language_info": {
   "codemirror_mode": {
    "name": "ipython",
    "version": 2
   },
   "file_extension": ".py",
   "mimetype": "text/x-python",
   "name": "python",
   "nbconvert_exporter": "python",
   "pygments_lexer": "ipython2",
   "version": "2.7.6"
  }
 },
 "nbformat": 4,
 "nbformat_minor": 0
}
