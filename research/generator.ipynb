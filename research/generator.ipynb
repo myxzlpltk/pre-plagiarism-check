{
 "cells": [
  {
   "cell_type": "markdown",
   "source": [
    "# Introduction\n",
    "\n",
    "**Generator step by step**\n",
    "1. Generate all random fonts map\n",
    "2. Generate fonts based on maps\n",
    "3. Replace all character inside document with new mapping\n",
    "4. Inject new fonts into document\n",
    "5. Change font and save document"
   ],
   "metadata": {
    "collapsed": false
   }
  },
  {
   "cell_type": "markdown",
   "source": [
    "## Database setup"
   ],
   "metadata": {
    "collapsed": false
   }
  },
  {
   "cell_type": "code",
   "execution_count": 1,
   "outputs": [],
   "source": [
    "import pymongo\n",
    "\n",
    "mongo = pymongo.MongoClient('mongodb://localhost:27017/')\n",
    "db = mongo['skripsi']\n",
    "col = db['fonts']"
   ],
   "metadata": {
    "collapsed": false
   }
  },
  {
   "cell_type": "markdown",
   "source": [
    "# Generate all random fonts map"
   ],
   "metadata": {
    "collapsed": false
   }
  },
  {
   "cell_type": "code",
   "execution_count": 2,
   "metadata": {
    "collapsed": true
   },
   "outputs": [
    {
     "data": {
      "text/plain": "{'u': 'k',\n 'b': 'n',\n 'e': 'y',\n 'l': 'b',\n 'k': 'o',\n 'y': 'x',\n 'o': 'u',\n 'r': 't',\n 'x': 'e',\n 'n': 'r',\n 't': 'f',\n 'f': 'l'}"
     },
     "execution_count": 2,
     "metadata": {},
     "output_type": "execute_result"
    }
   ],
   "source": [
    "import string\n",
    "import random\n",
    "\n",
    "letters = list(string.ascii_lowercase)\n",
    "random.shuffle(letters)\n",
    "\n",
    "total_swaps = random.randint(10, 15)\n",
    "random_letters = letters[:total_swaps]\n",
    "letters = letters[:total_swaps]\n",
    "\n",
    "random.shuffle(random_letters)\n",
    "swaps = dict(zip(letters, random_letters))\n",
    "swaps"
   ]
  },
  {
   "cell_type": "markdown",
   "source": [
    "# Generate fonts based on maps"
   ],
   "metadata": {
    "collapsed": false
   }
  },
  {
   "cell_type": "code",
   "execution_count": 3,
   "outputs": [],
   "source": [
    "import uuid\n",
    "from fontTools import ttLib\n",
    "from copy import deepcopy\n",
    "\n",
    "font_input_path = '../inputs/times.ttf'\n",
    "font_output_path = '../tmps/' + uuid.uuid4().hex + '.ttf'\n",
    "\n",
    "font = ttLib.TTFont(font_input_path)\n",
    "original_font = deepcopy(font)\n",
    "\n",
    "for key, value in swaps.items():\n",
    "    font['glyf'][key] = original_font['glyf'][value]  # Swap glyph\n",
    "    font['hmtx'].metrics[key] = original_font['hmtx'].metrics[value] # Swap metric\n",
    "\n",
    "font.save(font_output_path)"
   ],
   "metadata": {
    "collapsed": false
   }
  },
  {
   "cell_type": "code",
   "execution_count": 4,
   "outputs": [
    {
     "data": {
      "text/plain": "0"
     },
     "execution_count": 4,
     "metadata": {},
     "output_type": "execute_result"
    }
   ],
   "source": [
    "import os\n",
    "\n",
    "os.system(f\"python ../services/rename-fonts.py \\\"{font_output_path}\\\" -s \\\" Fake\\\" --inplace\")"
   ],
   "metadata": {
    "collapsed": false
   }
  },
  {
   "cell_type": "markdown",
   "source": [
    "# Save to MongoDB"
   ],
   "metadata": {
    "collapsed": false
   }
  },
  {
   "cell_type": "code",
   "execution_count": 5,
   "outputs": [
    {
     "data": {
      "text/plain": "{'swaps': {'u': 'k',\n  'b': 'n',\n  'e': 'y',\n  'l': 'b',\n  'k': 'o',\n  'y': 'x',\n  'o': 'u',\n  'r': 't',\n  'x': 'e',\n  'n': 'r',\n  't': 'f',\n  'f': 'l'},\n 'font': 'caf3c1265a8446beabde7cb9a260a0aa.ttf',\n '_id': ObjectId('6330eedf3f847584598c2b3a')}"
     },
     "execution_count": 5,
     "metadata": {},
     "output_type": "execute_result"
    }
   ],
   "source": [
    "summary = {\n",
    "    'swaps': swaps,\n",
    "    'font': os.path.basename(font_output_path),\n",
    "    'fontname': 'Times New Roman Fake',\n",
    "}\n",
    "\n",
    "col.insert_one(summary)\n",
    "summary"
   ],
   "metadata": {
    "collapsed": false
   }
  },
  {
   "cell_type": "code",
   "execution_count": null,
   "outputs": [],
   "source": [],
   "metadata": {
    "collapsed": false
   }
  }
 ],
 "metadata": {
  "kernelspec": {
   "display_name": "Python 3",
   "language": "python",
   "name": "python3"
  },
  "language_info": {
   "codemirror_mode": {
    "name": "ipython",
    "version": 2
   },
   "file_extension": ".py",
   "mimetype": "text/x-python",
   "name": "python",
   "nbconvert_exporter": "python",
   "pygments_lexer": "ipython2",
   "version": "2.7.6"
  }
 },
 "nbformat": 4,
 "nbformat_minor": 0
}
