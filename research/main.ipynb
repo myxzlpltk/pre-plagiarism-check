{
 "cells": [
  {
   "cell_type": "code",
   "execution_count": 4,
   "metadata": {},
   "outputs": [
    {
     "name": "stdout",
     "output_type": "stream",
     "text": [
      "{'size': 11.0, 'flags': 0, 'font': 'Droid Sans Fallback Regular', 'color': 0, 'ascender': 1.04296875, 'descender': -0.265625, 'text': 'Lorem', 'origin': (74.19999694824219, 83.47265625), 'bbox': (74.19999694824219, 72.0, 106.07284545898438, 86.39453125)}\n"
     ]
    },
    {
     "ename": "TypeError",
     "evalue": "'Page' object is not subscriptable",
     "output_type": "error",
     "traceback": [
      "\u001B[1;31m---------------------------------------------------------------------------\u001B[0m",
      "\u001B[1;31mTypeError\u001B[0m                                 Traceback (most recent call last)",
      "Cell \u001B[1;32mIn [4], line 49\u001B[0m\n\u001B[0;32m     47\u001B[0m doc\u001B[38;5;241m.\u001B[39msave(\u001B[38;5;124m'\u001B[39m\u001B[38;5;124ma.pdf\u001B[39m\u001B[38;5;124m'\u001B[39m)\n\u001B[0;32m     48\u001B[0m doc \u001B[38;5;241m=\u001B[39m fitz\u001B[38;5;241m.\u001B[39mopen(\u001B[38;5;124m'\u001B[39m\u001B[38;5;124ma.pdf\u001B[39m\u001B[38;5;124m'\u001B[39m)\n\u001B[1;32m---> 49\u001B[0m \u001B[43mpage\u001B[49m\u001B[43m[\u001B[49m\u001B[38;5;241;43m0\u001B[39;49m\u001B[43m]\u001B[49m\u001B[38;5;241m.\u001B[39mget_text(\u001B[38;5;124m'\u001B[39m\u001B[38;5;124mtext\u001B[39m\u001B[38;5;124m'\u001B[39m)\n",
      "\u001B[1;31mTypeError\u001B[0m: 'Page' object is not subscriptable"
     ]
    }
   ],
   "source": [
    "import fitz\n",
    "doc = fitz.open()\n",
    "page = doc.new_page()\n",
    "\n",
    "page_rect = page.rect\n",
    "\n",
    "black = (0, 0, 0)\n",
    "\n",
    "font = fitz.Font(ordering=0)  # results in fallback font for everything\n",
    "fsize = 11  # fontsize\n",
    "\n",
    "text = \"\"\"Lorem ipsum dolor sit amet, consectetur adipiscing elit. Nulla vel luctus neque. Quisque et massa felis. Phasellus eleifend felis sed arcu commodo vulputate. Nulla nec mi non velit finibus sollicitudin vitae eu ipsum. Praesent blandit orci diam, tincidunt venenatis felis convallis sed. Aliquam erat volutpat. Sed a pretium sapien. Quisque lacinia pulvinar ipsum, non venenatis quam venenatis sed. Pellentesque ac ultrices felis. Donec et luctus eros. Proin mollis, mi in maximus egestas, nunc nulla posuere nisi, in aliquet tellus urna in turpis. Proin gravida dolor tellus, in porttitor elit efficitur non. Ut viverra, augue nec tincidunt mollis, purus nisi euismod mi, quis lacinia magna augue ac lacus.\n",
    "Ut sed sollicitudin metus. Donec mollis tellus consequat rutrum malesuada. Fusce fermentum tincidunt dolor nec condimentum. Vivamus id pretium tellus, nec tincidunt ipsum. Ut id sagittis massa. Aliquam commodo, velit sit amet lacinia hendrerit, sapien purus pharetra mi, a blandit odio ipsum in leo. Cras ac laoreet justo. Nullam varius, elit vel placerat euismod, lacus nibh tristique dolor, in viverra tortor est id arcu. Aenean nunc ipsum, fermentum sit amet mi nec, luctus semper turpis. Curabitur volutpat eget leo vel ultrices. Morbi varius augue eget bibendum tincidunt. Integer hendrerit posuere sem et blandit. Nam in dui in tellus vulputate sollicitudin. In hac habitasse platea dictumst. Morbi id eros id neque laoreet sagittis a vel urna.\"\"\"\n",
    "\n",
    "fill_rect = fitz.Rect(72, 72, page.rect.width-72, 372)  #  keep above text in here\n",
    "writer = fitz.TextWriter(page_rect, color=black)  # start a text writer\n",
    "\n",
    "writer.fill_textbox(  # fill in above text\n",
    "    fill_rect,  # keep text inside this\n",
    "    text,  # the text\n",
    "    align=fitz.TEXT_ALIGN_JUSTIFY,  # alignment\n",
    "    warn=True,\n",
    "    fontsize=fsize,\n",
    "    font=font,\n",
    ")\n",
    "\n",
    "# write our results to the PDF page.\n",
    "writer.write_text(page)\n",
    "\n",
    "\n",
    "rl = page.search_for(\"Lorem\")\n",
    "assert len(rl) == 1\n",
    "clip = rl[0]\n",
    "# extract text info now - before the redacting removes it.\n",
    "blocks = page.get_text(\"dict\", clip=clip)[\"blocks\"]\n",
    "span = blocks[0][\"lines\"][0][\"spans\"][0]\n",
    "\n",
    "# remove text\n",
    "page.add_redact_annot(clip)\n",
    "page.apply_redactions()\n",
    "\n",
    "\n",
    "tw = fitz.TextWriter(page.rect, color=(1, 0, 0))\n",
    "tw.append(span[\"origin\"], span['text'], font=font, fontsize=span[\"size\"])\n",
    "tw.write_text(page, overlay=0)\n",
    "print(span)\n",
    "doc.save('a.pdf')\n",
    "doc = fitz.open('a.pdf')\n",
    "page[0].get_text('text')"
   ]
  },
  {
   "cell_type": "markdown",
   "metadata": {},
   "source": []
  },
  {
   "cell_type": "markdown",
   "metadata": {},
   "source": []
  }
 ],
 "metadata": {
  "kernelspec": {
   "display_name": "Python 3.9.13 ('Skripsheeesh')",
   "language": "python",
   "name": "python3"
  },
  "language_info": {
   "codemirror_mode": {
    "name": "ipython",
    "version": 3
   },
   "file_extension": ".py",
   "mimetype": "text/x-python",
   "name": "python",
   "nbconvert_exporter": "python",
   "pygments_lexer": "ipython3",
   "version": "3.9.13"
  },
  "orig_nbformat": 4,
  "vscode": {
   "interpreter": {
    "hash": "db99fcdcf4d350b0a85f79c11f3a9bfb2e0477ec6fa570ac1c31c25bd440e3bb"
   }
  }
 },
 "nbformat": 4,
 "nbformat_minor": 2
}
