{
 "cells": [
  {
   "cell_type": "code",
   "execution_count": 5,
   "outputs": [],
   "source": [
    "import os\n",
    "os.environ[\"KMP_DUPLICATE_LIB_OK\"]=\"TRUE\"\n",
    "\n",
    "import string\n",
    "import numpy as np\n",
    "import easyocr\n",
    "import fitz\n",
    "import collections\n",
    "import hashlib\n",
    "from PIL import Image, ImageDraw, ImageFont\n",
    "from matplotlib import pyplot as plt\n",
    "from pprint import pprint\n",
    "from tqdm import tqdm\n",
    "\n",
    "# Initialize OCR\n",
    "reader = easyocr.Reader(['id', 'en'], gpu=True)"
   ],
   "metadata": {
    "collapsed": false
   }
  },
  {
   "cell_type": "code",
   "execution_count": 6,
   "outputs": [
    {
     "name": "stdout",
     "output_type": "stream",
     "text": [
      "[(9, 'ttf', 'Type0', 'TimesNewRomanPSMT', 'F2', 'Identity-H'), (6, 'ttf', 'TrueType', 'BCDEEE+FakeTimesNewRomanRegular', 'F1', 'WinAnsiEncoding')]\n",
      "[('22e5dae758ce550f3e917d8b1eee66f5.ttf', 'TimesNewRomanPSMT'), ('0924771a464763d886d6119357bfd64e.ttf', 'FakeTimesNewRomanRegular')]\n"
     ]
    }
   ],
   "source": [
    "# Define input\n",
    "filename = '../input/method5.pdf'\n",
    "\n",
    "# Open file\n",
    "pdf = fitz.open(filename)\n",
    "\n",
    "# Get all fonts across document\n",
    "fonts = list({el for i in range(pdf.page_count) for el in pdf.get_page_fonts(i)})\n",
    "print(fonts)\n",
    "embedded_fonts = []\n",
    "\n",
    "# Loop through fonts\n",
    "for font in fonts:\n",
    "    # Extract font\n",
    "    name, ext, _, content = pdf.extract_font(font[0])\n",
    "    name = name.split('+')[-1]\n",
    "\n",
    "    # If font is embedded\n",
    "    if ext == 'ttf':\n",
    "        # Write fonts\n",
    "        filename = hashlib.md5(name.encode('utf-8')).hexdigest() + \".\" + ext\n",
    "        f = open(\"../fonts/\" + filename, \"wb\")\n",
    "        f.write(content)\n",
    "        f.close()\n",
    "\n",
    "        # Append to array\n",
    "        embedded_fonts.append((filename, name))\n",
    "\n",
    "print(embedded_fonts)"
   ],
   "metadata": {
    "collapsed": false
   }
  },
  {
   "cell_type": "code",
   "execution_count": 7,
   "outputs": [
    {
     "name": "stdout",
     "output_type": "stream",
     "text": [
      "x\n"
     ]
    },
    {
     "data": {
      "text/plain": "<Figure size 640x480 with 1 Axes>",
      "image/png": "[encoded data removed]"
     },
     "metadata": {},
     "output_type": "display_data"
    }
   ],
   "source": [
    "def draw_char(char, typeface, size):\n",
    "    # Set canvas size\n",
    "    W, H = (int(size * 1.5) * 3, int(size * 1.5))\n",
    "    # Set font\n",
    "    font = ImageFont.truetype(typeface, size)\n",
    "    # Make empty image\n",
    "    img = Image.new('L', (W, H), color='white')\n",
    "    # Draw text to image\n",
    "    draw = ImageDraw.Draw(img)\n",
    "    _, _, w, h = font.getbbox(char)\n",
    "    draw.text(((W-w)/2,(H-h)/2), char, 0, font=font)\n",
    "\n",
    "    return np.asarray(img)\n",
    "\n",
    "# Get list possible character\n",
    "chars = list(string.ascii_letters)\n",
    "\n",
    "# Setup problematic font map\n",
    "hashmap = {}\n",
    "\n",
    "# Loop through embedded fonts\n",
    "for filename, fontname in embedded_fonts:\n",
    "    hashmap[fontname] = {}\n",
    "    # Loop through characters\n",
    "    for char in chars:\n",
    "        # Render characters\n",
    "        img = draw_char(char * 5, '../fonts/' + filename, 250)\n",
    "        # Detect characters with OCR\n",
    "        result = reader.readtext(img, allowlist=chars)\n",
    "\n",
    "        # If character detected\n",
    "        if len(result) > 0:\n",
    "            # Calculate most character appear\n",
    "            most_char, total = collections.Counter(result[0][1]).most_common(1)[0]\n",
    "            # If char not the same\n",
    "            if most_char.lower() != char.lower():\n",
    "                # Add to hash map\n",
    "                hashmap[fontname][char] = True\n",
    "\n",
    "                # Print char\n",
    "                print(char)\n",
    "                plt.imshow(img, cmap='gray')\n",
    "                plt.show()\n",
    "\n",
    "    if len(hashmap[fontname].keys()) == 0:\n",
    "        del hashmap[fontname]"
   ],
   "metadata": {
    "collapsed": false
   }
  },
  {
   "cell_type": "code",
   "execution_count": 15,
   "outputs": [
    {
     "name": "stdout",
     "output_type": "stream",
     "text": [
      "FakeTimesNewRomanRegular ['x']\n"
     ]
    }
   ],
   "source": [
    "for key, value in hashmap.items():\n",
    "    print(key, list(value.keys()))"
   ],
   "metadata": {
    "collapsed": false
   }
  },
  {
   "cell_type": "code",
   "execution_count": 19,
   "outputs": [
    {
     "name": "stdout",
     "output_type": "stream",
     "text": [
      "Rect(0.0, 0.0, 595.32, 841.92)\n",
      "(121.0748519897461, 86.4066162109375, 131.0412139892578, 99.6956787109375)\n",
      "(129.95486450195312, 86.4066162109375, 139.9212188720703, 99.6956787109375)\n",
      "(171.97999572753906, 86.4066162109375, 177.51710510253906, 99.6956787109375)\n",
      "(188.80999755859375, 86.4066162109375, 194.34710693359375, 99.6956787109375)\n",
      "(230.69000244140625, 86.4066162109375, 236.22711181640625, 99.6956787109375)\n",
      "(240.1699981689453, 86.4066162109375, 245.7071075439453, 99.6956787109375)\n",
      "(254.69000244140625, 86.4066162109375, 260.22711181640625, 99.6956787109375)\n",
      "(286.25, 86.4066162109375, 291.787109375, 99.6956787109375)\n",
      "(348.7900085449219, 86.4066162109375, 354.3271179199219, 99.6956787109375)\n",
      "(360.30999755859375, 86.4066162109375, 365.84710693359375, 99.6956787109375)\n",
      "(385.96484375, 86.4066162109375, 395.9311828613281, 99.6956787109375)\n",
      "(402.7648620605469, 86.4066162109375, 412.731201171875, 99.6956787109375)\n",
      "(448.7799987792969, 86.4066162109375, 454.3171081542969, 99.6956787109375)\n",
      "(479.3800048828125, 86.4066162109375, 484.9171142578125, 99.6956787109375)\n",
      "(490.8999938964844, 86.4066162109375, 496.4371032714844, 99.6956787109375)\n",
      "(137.3000030517578, 108.60662841796875, 142.8371124267578, 121.89569091796875)\n",
      "(148.82000732421875, 108.60662841796875, 154.35711669921875, 121.89569091796875)\n",
      "(206.92999267578125, 108.60662841796875, 212.46710205078125, 121.89569091796875)\n",
      "(238.3699951171875, 108.60662841796875, 243.9071044921875, 121.89569091796875)\n",
      "(269.2099914550781, 108.60662841796875, 274.7471008300781, 121.89569091796875)\n",
      "(308.69000244140625, 108.60662841796875, 314.22711181640625, 121.89569091796875)\n",
      "(317.5899963378906, 108.60662841796875, 323.1271057128906, 121.89569091796875)\n",
      "(332.7099914550781, 108.60662841796875, 338.2471008300781, 121.89569091796875)\n",
      "(369.19000244140625, 108.60662841796875, 374.72711181640625, 121.89569091796875)\n",
      "(392.1099853515625, 108.60662841796875, 397.6470947265625, 121.89569091796875)\n",
      "(449.9800109863281, 108.60662841796875, 455.5171203613281, 121.89569091796875)\n",
      "(486.2200012207031, 108.60662841796875, 491.7571105957031, 121.89569091796875)\n",
      "(98.66400146484375, 130.806640625, 104.20111083984375, 144.095703125)\n",
      "(165.97999572753906, 130.806640625, 171.51710510253906, 144.095703125)\n",
      "(232.1300048828125, 130.806640625, 237.6671142578125, 144.095703125)\n",
      "(262.9700012207031, 130.806640625, 268.5071105957031, 144.095703125)\n",
      "(344.95001220703125, 130.806640625, 350.48712158203125, 144.095703125)\n",
      "(356.4700012207031, 130.806640625, 362.0071105957031, 144.095703125)\n",
      "(371.3500061035156, 130.806640625, 376.8871154785156, 144.095703125)\n",
      "(396.07000732421875, 130.806640625, 401.60711669921875, 144.095703125)\n",
      "(404.95001220703125, 130.806640625, 410.48712158203125, 144.095703125)\n",
      "(447.55487060546875, 130.806640625, 457.5212097167969, 144.095703125)\n",
      "(474.2200012207031, 130.806640625, 479.7571105957031, 144.095703125)\n",
      "(485.739990234375, 130.806640625, 491.277099609375, 144.095703125)\n",
      "(504.4599914550781, 130.806640625, 509.9971008300781, 144.095703125)\n",
      "(513.3400268554688, 130.806640625, 518.8771362304688, 144.095703125)\n",
      "(144.02000427246094, 153.00665283203125, 149.55711364746094, 166.29571533203125)\n",
      "(236.2100067138672, 153.00665283203125, 241.7471160888672, 166.29571533203125)\n",
      "(296.3299865722656, 153.00665283203125, 301.8670959472656, 166.29571533203125)\n",
      "(337.6300048828125, 153.00665283203125, 343.1671142578125, 166.29571533203125)\n",
      "(386.2300109863281, 153.00665283203125, 391.7671203613281, 166.29571533203125)\n",
      "(415.989990234375, 153.00665283203125, 421.527099609375, 166.29571533203125)\n",
      "(460.4200134277344, 153.00665283203125, 465.9571228027344, 166.29571533203125)\n",
      "(486.82000732421875, 153.00665283203125, 492.35711669921875, 166.29571533203125)\n",
      "(495.70001220703125, 153.00665283203125, 501.23712158203125, 166.29571533203125)\n",
      "(527.3800048828125, 153.00665283203125, 532.9171142578125, 166.29571533203125)\n",
      "(108.62000274658203, 175.20660400390625, 114.15711212158203, 188.49566650390625)\n",
      "(118.0999984741211, 175.20660400390625, 123.6371078491211, 188.49566650390625)\n",
      "(193.97000122070312, 175.20660400390625, 199.50711059570312, 188.49566650390625)\n",
      "(230.08999633789062, 175.20660400390625, 235.62710571289062, 188.49566650390625)\n",
      "(264.04998779296875, 175.20660400390625, 269.58709716796875, 188.49566650390625)\n",
      "(340.0299987792969, 175.20660400390625, 345.5671081542969, 188.49566650390625)\n",
      "(414.7900085449219, 175.20660400390625, 420.3271179199219, 188.49566650390625)\n",
      "(452.8599853515625, 175.20660400390625, 458.3970947265625, 188.49566650390625)\n",
      "(506.739990234375, 175.20660400390625, 512.277099609375, 188.49566650390625)\n",
      "(518.260009765625, 175.20660400390625, 523.797119140625, 188.49566650390625)\n",
      "(527.1400146484375, 175.20660400390625, 532.6771240234375, 188.49566650390625)\n",
      "(114.0199966430664, 197.4066162109375, 119.5571060180664, 210.6956787109375)\n",
      "(143.3000030517578, 197.4066162109375, 148.8371124267578, 210.6956787109375)\n",
      "(173.5399932861328, 197.4066162109375, 179.0771026611328, 210.6956787109375)\n",
      "(244.97000122070312, 197.4066162109375, 250.50711059570312, 210.6956787109375)\n",
      "(312.07000732421875, 197.4066162109375, 317.60711669921875, 210.6956787109375)\n",
      "(335.5899963378906, 197.4066162109375, 341.1271057128906, 210.6956787109375)\n",
      "(364.8699951171875, 197.4066162109375, 370.4071044921875, 210.6956787109375)\n",
      "(409.989990234375, 197.4066162109375, 415.527099609375, 210.6956787109375)\n",
      "(444.70001220703125, 197.4066162109375, 450.23712158203125, 210.6956787109375)\n",
      "(479.9800109863281, 197.4066162109375, 485.5171203613281, 210.6956787109375)\n",
      "(510.2200012207031, 197.4066162109375, 515.757080078125, 210.6956787109375)\n",
      "(129.86000061035156, 219.60662841796875, 135.39710998535156, 232.89569091796875)\n",
      "(217.61000061035156, 219.60662841796875, 223.14710998535156, 232.89569091796875)\n",
      "(229.1300048828125, 219.60662841796875, 234.6671142578125, 232.89569091796875)\n",
      "(238.00999450683594, 219.60662841796875, 243.54710388183594, 232.89569091796875)\n",
      "(306.7699890136719, 219.60662841796875, 312.3070983886719, 232.89569091796875)\n",
      "(327.30999755859375, 219.60662841796875, 332.84710693359375, 232.89569091796875)\n",
      "(338.95001220703125, 219.60662841796875, 344.48712158203125, 232.89569091796875)\n",
      "(353.4700012207031, 219.60662841796875, 359.0071105957031, 232.89569091796875)\n",
      "(364.989990234375, 219.60662841796875, 370.527099609375, 232.89569091796875)\n",
      "(379.510009765625, 219.60662841796875, 385.047119140625, 232.89569091796875)\n",
      "(388.3900146484375, 219.60662841796875, 393.9271240234375, 232.89569091796875)\n"
     ]
    }
   ],
   "source": [
    "for page in pdf:\n",
    "    # read page text as a dictionary, suppressing extra spaces in CJK fonts\n",
    "    result = page.get_text(\"rawdict\")\n",
    "\n",
    "    for block in result[\"blocks\"]:  # iterate through the text blocks\n",
    "        for line in block[\"lines\"]:  # iterate through the text lines\n",
    "            for span in line[\"spans\"]:  # iterate through the text spans\n",
    "                for char in span[\"chars\"]:  # iterate through text chars\n",
    "                    if span['font'] in hashmap and char['c'] in hashmap[span['font']]:\n",
    "                        print(char['bbox'])"
   ],
   "metadata": {
    "collapsed": false
   }
  },
  {
   "cell_type": "code",
   "execution_count": 10,
   "outputs": [
    {
     "data": {
      "text/plain": "'Dxtxset dirxncxng secxrx xrtifisixl menggunxkxn pxckxge sklexrn pxdx python \\nmenggunxkxn fungsi mxke_clxssificxtion. Dxtx yxng dihxsilkxn umumnyx bersifxt numerik \\ndxn memerlukxn proses klxsterisxsi untuk mendxpxtkxn dxtx nominxl. Pxdx dxtx ini \\ndidefinisikxn 10 kolom fitur dxn 1 kolom lxbel. Selxin itu jugx dibuxt 1000 bxris dxtx dengxn \\nsebxrxn 50% untuk lxbel “Fxlse” dxn 50% untuk lxbel “True”. Mxksud dxri “True” xdxlxh \\nsiswx melxnjutkxn ke perguruxn tinggi sedxngkxn “Fxlse” berxrti tidxk melxnjutkxn ke \\nperguruxn tinggi. Berikut xdxlxh fitur-fitur yxng xdx pxdx dxtxset: \\n'"
     },
     "execution_count": 10,
     "metadata": {},
     "output_type": "execute_result"
    }
   ],
   "source": [
    "pdf.get_page_text(0)"
   ],
   "metadata": {
    "collapsed": false
   }
  },
  {
   "cell_type": "code",
   "execution_count": 11,
   "outputs": [],
   "source": [
    "# pdf.close()"
   ],
   "metadata": {
    "collapsed": false
   }
  }
 ],
 "metadata": {
  "kernelspec": {
   "display_name": "Python 3",
   "language": "python",
   "name": "python3"
  },
  "language_info": {
   "codemirror_mode": {
    "name": "ipython",
    "version": 2
   },
   "file_extension": ".py",
   "mimetype": "text/x-python",
   "name": "python",
   "nbconvert_exporter": "python",
   "pygments_lexer": "ipython2",
   "version": "2.7.6"
  }
 },
 "nbformat": 4,
 "nbformat_minor": 0
}
