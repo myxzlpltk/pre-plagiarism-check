{
 "cells": [
  {
   "cell_type": "markdown",
   "source": [
    "# Metode 2"
   ],
   "metadata": {
    "collapsed": false
   }
  },
  {
   "cell_type": "code",
   "execution_count": 26,
   "metadata": {
    "collapsed": true
   },
   "outputs": [],
   "source": [
    "import pymongo\n",
    "import fitz\n",
    "\n",
    "# Mongo DB connection\n",
    "mongo = pymongo.MongoClient('mongodb://localhost:27017/')\n",
    "db = mongo['skripsi']\n",
    "col = db['method2']\n",
    "\n",
    "# Define variable\n",
    "filename = 'input/input 2.pdf'\n",
    "data = col.find_one({'filename': filename})\n",
    "\n",
    "# Read PDF\n",
    "pdf = fitz.open(f\"../{filename}\")\n",
    "\n",
    "for data_page in data['pages']:\n",
    "    page = pdf[data_page['page']]\n",
    "    page_width, page_height = page.mediabox_size\n",
    "\n",
    "    for data_item in data_page['items']:\n",
    "        rect = fitz.Rect(\n",
    "            data_item['rect']['x0'] / data_page['page_width'] * page_width,\n",
    "            data_item['rect']['y0'] / data_page['page_height'] * page_height,\n",
    "            data_item['rect']['x1'] / data_page['page_width'] * page_width,\n",
    "            data_item['rect']['y1'] / data_page['page_height'] * page_height,\n",
    "        )\n",
    "\n",
    "        color = fitz.utils.getColor('red')\n",
    "        page.draw_rect(rect, fill=color, fill_opacity=0.25, overlay=True)\n",
    "\n",
    "pdf.save('../exports/output-method2.pdf', permissions=fitz.PDF_PERM_PRINT, encryption=fitz.PDF_ENCRYPT_AES_256, owner_pw='wow')\n",
    "\n",
    "pdf.close()"
   ]
  },
  {
   "cell_type": "markdown",
   "source": [
    "# Metode 5"
   ],
   "metadata": {
    "collapsed": false
   }
  },
  {
   "cell_type": "code",
   "execution_count": 5,
   "outputs": [],
   "source": [
    "import pymongo\n",
    "import fitz\n",
    "\n",
    "# Mongo DB connection\n",
    "mongo = pymongo.MongoClient('mongodb://localhost:27017/')\n",
    "db = mongo['skripsi']\n",
    "col = db['method5']\n",
    "\n",
    "# Define variable\n",
    "filename = 'outputs/00fd32b4eb92412ca3c9fdb02e84776c.pdf'\n",
    "data = col.find_one({'filename': filename})\n",
    "\n",
    "# Read PDF\n",
    "pdf = fitz.open(f\"../{filename}\")\n",
    "\n",
    "for data_page in data['pages']:\n",
    "    page = pdf[data_page['page']]\n",
    "    page_width, page_height = page.mediabox_size\n",
    "\n",
    "    for data_item in data_page['items']:\n",
    "        rect = fitz.Rect(\n",
    "            data_item['rect']['x0'] / data_page['page_width'] * page_width,\n",
    "            data_item['rect']['y0'] / data_page['page_height'] * page_height,\n",
    "            data_item['rect']['x1'] / data_page['page_width'] * page_width,\n",
    "            data_item['rect']['y1'] / data_page['page_height'] * page_height,\n",
    "        )\n",
    "\n",
    "        color = fitz.utils.getColor('red')\n",
    "        page.draw_rect(rect, fill=color, fill_opacity=0.25, overlay=True)\n",
    "\n",
    "pdf.save('../outputs/output-method5.pdf', permissions=fitz.PDF_PERM_COPY, encryption=fitz.PDF_ENCRYPT_AES_256, owner_pw='wow')\n",
    "\n",
    "pdf.close()"
   ],
   "metadata": {
    "collapsed": false
   }
  },
  {
   "cell_type": "code",
   "execution_count": null,
   "outputs": [],
   "source": [],
   "metadata": {
    "collapsed": false
   }
  }
 ],
 "metadata": {
  "kernelspec": {
   "display_name": "Python 3",
   "language": "python",
   "name": "python3"
  },
  "language_info": {
   "codemirror_mode": {
    "name": "ipython",
    "version": 2
   },
   "file_extension": ".py",
   "mimetype": "text/x-python",
   "name": "python",
   "nbconvert_exporter": "python",
   "pygments_lexer": "ipython2",
   "version": "2.7.6"
  }
 },
 "nbformat": 4,
 "nbformat_minor": 0
}
