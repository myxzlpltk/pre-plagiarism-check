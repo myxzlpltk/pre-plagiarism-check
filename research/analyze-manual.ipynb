{
 "cells": [
  {
   "cell_type": "code",
   "execution_count": 1,
   "outputs": [],
   "source": [
    "import os\n",
    "os.environ[\"KMP_DUPLICATE_LIB_OK\"]=\"TRUE\"\n",
    "\n",
    "from glob import glob\n",
    "import string\n",
    "import numpy as np\n",
    "import easyocr\n",
    "import fitz\n",
    "import collections\n",
    "import hashlib\n",
    "from PIL import Image, ImageDraw, ImageFont\n",
    "from matplotlib import pyplot as plt\n",
    "from tqdm import tqdm\n",
    "from sklearn.metrics import accuracy_score, precision_score, recall_score, f1_score, confusion_matrix\n",
    "from sklearn.metrics import ConfusionMatrixDisplay"
   ],
   "metadata": {
    "collapsed": false
   }
  },
  {
   "cell_type": "code",
   "execution_count": 2,
   "outputs": [],
   "source": [
    "# Initialize OCR\n",
    "reader = easyocr.Reader([], gpu=True)"
   ],
   "metadata": {
    "collapsed": false
   }
  },
  {
   "cell_type": "markdown",
   "source": [
    "# Load fonts"
   ],
   "metadata": {
    "collapsed": false
   }
  },
  {
   "cell_type": "code",
   "execution_count": 3,
   "outputs": [
    {
     "data": {
      "text/plain": "[{'a': 'd', 'd': 'a', 'A': 'D', 'D': 'A'},\n {'i': 'e', 'e': 'i', 'I': 'E', 'E': 'I'},\n {'u': 'f', 'f': 'u', 'U': 'F', 'F': 'U'},\n {'e': 'g', 'g': 'e', 'E': 'G', 'G': 'E'}]"
     },
     "execution_count": 3,
     "metadata": {},
     "output_type": "execute_result"
    }
   ],
   "source": [
    "def generate_pair(char1, char2):\n",
    "    return {char1:char2, char2:char1, char1.upper():char2.upper(), char2.upper():char1.upper()}\n",
    "\n",
    "swaps = [\n",
    "    generate_pair(\"a\", \"d\"),\n",
    "    generate_pair(\"i\", \"e\"),\n",
    "    generate_pair(\"u\", \"f\"),\n",
    "    generate_pair(\"e\", \"g\"),\n",
    "]\n",
    "swaps"
   ],
   "metadata": {
    "collapsed": false
   }
  },
  {
   "cell_type": "markdown",
   "source": [
    "# Load docs"
   ],
   "metadata": {
    "collapsed": false
   }
  },
  {
   "cell_type": "code",
   "execution_count": 4,
   "metadata": {
    "collapsed": true
   },
   "outputs": [
    {
     "data": {
      "text/plain": "[(0, '../datasets/pdf\\\\1 data_penelitian - ichlalsul bulqiah.pdf'),\n (0, '../datasets/pdf\\\\1 Kesimpulan Dan Isu Isu - RIKA PURNAWATI.pdf'),\n (0, '../datasets/pdf\\\\1 Pendahuluan - TUNGGUL WIDO.pdf'),\n (0,\n  '../datasets/pdf\\\\1 Perceptron merupdkdn moael seaerhdnd adri jdringdn - Muhammad Syukur Abadi.pdf'),\n (0, '../datasets/pdf\\\\1 Survey Saddam - MERCYANO DANDI HIDAYAT.pdf'),\n (0, '../datasets/pdf\\\\1 Tugas TBL - Adika Prana Ihsanuddin.pdf'),\n (1, '../datasets/pdf\\\\2 data_penelitian2 - ichlalsul bulqiah.pdf'),\n (1, '../datasets/pdf\\\\2 Saddam - Jaka Asa Baldan Ahmad.pdf'),\n (2, '../datasets/pdf\\\\3 data_penelitian3 - ichlalsul bulqiah.pdf'),\n (2, '../datasets/pdf\\\\3 Fake TNR 3 - Nor Mohammad Anwar Sadad.pdf'),\n (2, '../datasets/pdf\\\\3 Isi_Form - Mochammad Firman Maulidiansyah.pdf'),\n (2, '../datasets/pdf\\\\3 Test - Arief Husnan.pdf'),\n (3, '../datasets/pdf\\\\4 data_penelitian4 - ichlalsul bulqiah.pdf'),\n (3, '../datasets/pdf\\\\4 Fake TNR Font 4 - Nur Wahyu Melliano Hariyanto.pdf')]"
     },
     "execution_count": 4,
     "metadata": {},
     "output_type": "execute_result"
    }
   ],
   "source": [
    "docs = glob(\"../datasets/pdf/*.pdf\")\n",
    "docs = [(int(os.path.basename(doc)[0])-1, doc) for doc in docs]\n",
    "docs"
   ]
  },
  {
   "cell_type": "code",
   "execution_count": 5,
   "outputs": [
    {
     "data": {
      "text/plain": "<Figure size 640x480 with 1 Axes>",
      "image/png": "[encoded data removed]"
     },
     "metadata": {},
     "output_type": "display_data"
    }
   ],
   "source": [
    "def draw_char(char, typeface, size):\n",
    "    # Set canvas size\n",
    "    W, H = (int(size * 1.5) * 3, size)\n",
    "    # Set font\n",
    "    font = ImageFont.truetype(typeface, size)\n",
    "    # Make empty image\n",
    "    img = Image.new('RGB', (W, H), color='#969696')\n",
    "    # Draw text to image\n",
    "    draw = ImageDraw.Draw(img)\n",
    "    _, _, w, h = font.getbbox(char)\n",
    "    draw.text(((W-w)/2,(H-h)/2-size/8), char, fill='#696969', font=font)\n",
    "\n",
    "    return np.asarray(img)\n",
    "\n",
    "img = draw_char(\"W\" * 4, '../inputs/times.ttf', 250)\n",
    "plt.imshow(img)\n",
    "plt.show()"
   ],
   "metadata": {
    "collapsed": false
   }
  },
  {
   "cell_type": "code",
   "execution_count": 8,
   "outputs": [
    {
     "name": "stderr",
     "output_type": "stream",
     "text": [
      "  7%|▋         | 1/14 [00:03<00:44,  3.41s/it]"
     ]
    },
    {
     "name": "stdout",
     "output_type": "stream",
     "text": [
      "File : 1 data_penelitian - ichlalsul bulqiah.pdf\n",
      "Accuracy Score : 1.0\n"
     ]
    },
    {
     "name": "stderr",
     "output_type": "stream",
     "text": [
      " 14%|█▍        | 2/14 [00:06<00:37,  3.15s/it]"
     ]
    },
    {
     "name": "stdout",
     "output_type": "stream",
     "text": [
      "File : 1 Kesimpulan Dan Isu Isu - RIKA PURNAWATI.pdf\n",
      "Accuracy Score : 1.0\n"
     ]
    },
    {
     "name": "stderr",
     "output_type": "stream",
     "text": [
      " 21%|██▏       | 3/14 [00:09<00:33,  3.03s/it]"
     ]
    },
    {
     "name": "stdout",
     "output_type": "stream",
     "text": [
      "File : 1 Pendahuluan - TUNGGUL WIDO.pdf\n",
      "Accuracy Score : 1.0\n"
     ]
    },
    {
     "name": "stderr",
     "output_type": "stream",
     "text": [
      " 29%|██▊       | 4/14 [00:12<00:30,  3.08s/it]"
     ]
    },
    {
     "name": "stdout",
     "output_type": "stream",
     "text": [
      "File : 1 Perceptron merupdkdn moael seaerhdnd adri jdringdn - Muhammad Syukur Abadi.pdf\n",
      "Accuracy Score : 1.0\n"
     ]
    },
    {
     "name": "stderr",
     "output_type": "stream",
     "text": [
      " 36%|███▌      | 5/14 [00:15<00:27,  3.02s/it]"
     ]
    },
    {
     "name": "stdout",
     "output_type": "stream",
     "text": [
      "File : 1 Survey Saddam - MERCYANO DANDI HIDAYAT.pdf\n",
      "Accuracy Score : 1.0\n"
     ]
    },
    {
     "name": "stderr",
     "output_type": "stream",
     "text": [
      " 43%|████▎     | 6/14 [00:18<00:23,  2.97s/it]"
     ]
    },
    {
     "name": "stdout",
     "output_type": "stream",
     "text": [
      "File : 1 Tugas TBL - Adika Prana Ihsanuddin.pdf\n",
      "Accuracy Score : 1.0\n"
     ]
    },
    {
     "name": "stderr",
     "output_type": "stream",
     "text": [
      " 50%|█████     | 7/14 [00:21<00:20,  2.98s/it]"
     ]
    },
    {
     "name": "stdout",
     "output_type": "stream",
     "text": [
      "File : 2 data_penelitian2 - ichlalsul bulqiah.pdf\n",
      "Accuracy Score : 1.0\n"
     ]
    },
    {
     "name": "stderr",
     "output_type": "stream",
     "text": [
      " 57%|█████▋    | 8/14 [00:24<00:18,  3.03s/it]"
     ]
    },
    {
     "name": "stdout",
     "output_type": "stream",
     "text": [
      "File : 2 Saddam - Jaka Asa Baldan Ahmad.pdf\n",
      "Accuracy Score : 1.0\n"
     ]
    },
    {
     "name": "stderr",
     "output_type": "stream",
     "text": [
      " 64%|██████▍   | 9/14 [00:27<00:14,  2.99s/it]"
     ]
    },
    {
     "name": "stdout",
     "output_type": "stream",
     "text": [
      "File : 3 data_penelitian3 - ichlalsul bulqiah.pdf\n",
      "Accuracy Score : 1.0\n"
     ]
    },
    {
     "name": "stderr",
     "output_type": "stream",
     "text": [
      " 71%|███████▏  | 10/14 [00:30<00:12,  3.00s/it]"
     ]
    },
    {
     "name": "stdout",
     "output_type": "stream",
     "text": [
      "File : 3 Fake TNR 3 - Nor Mohammad Anwar Sadad.pdf\n",
      "Accuracy Score : 1.0\n"
     ]
    },
    {
     "name": "stderr",
     "output_type": "stream",
     "text": [
      " 79%|███████▊  | 11/14 [00:33<00:09,  3.02s/it]"
     ]
    },
    {
     "name": "stdout",
     "output_type": "stream",
     "text": [
      "File : 3 Isi_Form - Mochammad Firman Maulidiansyah.pdf\n",
      "Accuracy Score : 1.0\n"
     ]
    },
    {
     "name": "stderr",
     "output_type": "stream",
     "text": [
      " 86%|████████▌ | 12/14 [00:36<00:06,  3.01s/it]"
     ]
    },
    {
     "name": "stdout",
     "output_type": "stream",
     "text": [
      "File : 3 Test - Arief Husnan.pdf\n",
      "Accuracy Score : 1.0\n"
     ]
    },
    {
     "name": "stderr",
     "output_type": "stream",
     "text": [
      " 93%|█████████▎| 13/14 [00:39<00:02,  3.00s/it]"
     ]
    },
    {
     "name": "stdout",
     "output_type": "stream",
     "text": [
      "File : 4 data_penelitian4 - ichlalsul bulqiah.pdf\n",
      "Accuracy Score : 1.0\n"
     ]
    },
    {
     "name": "stderr",
     "output_type": "stream",
     "text": [
      "100%|██████████| 14/14 [00:42<00:00,  3.01s/it]"
     ]
    },
    {
     "name": "stdout",
     "output_type": "stream",
     "text": [
      "File : 4 Fake TNR Font 4 - Nur Wahyu Melliano Hariyanto.pdf\n",
      "Accuracy Score : 1.0\n"
     ]
    },
    {
     "name": "stderr",
     "output_type": "stream",
     "text": [
      "\n"
     ]
    }
   ],
   "source": [
    "# Get list possible character\n",
    "chars = list(string.digits + string.ascii_letters)\n",
    "\n",
    "for index, pdfpath in tqdm(docs):\n",
    "    # Open file\n",
    "    pdf = fitz.open(pdfpath)\n",
    "\n",
    "    # Get all fonts across document\n",
    "    fonts = list({el for i in range(pdf.page_count) for el in pdf.get_page_fonts(i)})\n",
    "    embedded_fonts = []\n",
    "\n",
    "    # Loop through fonts\n",
    "    for font in fonts:\n",
    "        # Extract font\n",
    "        name, ext, _, content = pdf.extract_font(font[0])\n",
    "        name = name.split('+')[-1]\n",
    "\n",
    "        # If font is embedded\n",
    "        if ext == 'ttf' and \"TNR\" in name:\n",
    "            # Write fonts\n",
    "            filename = hashlib.md5(name.encode('utf-8')).hexdigest() + \".\" + ext\n",
    "            f = open(\"../fonts/\" + filename, \"wb\")\n",
    "            f.write(content)\n",
    "            f.close()\n",
    "\n",
    "            # Append to array\n",
    "            embedded_fonts.append((filename, name))\n",
    "\n",
    "    # Setup problematic font map\n",
    "    hashmap = {}\n",
    "    setmap = set(swaps[index].keys())\n",
    "\n",
    "    # Counter\n",
    "    y_true = []\n",
    "    y_pred = []\n",
    "\n",
    "    # Loop through embedded fonts\n",
    "    for fontfile, fontname in embedded_fonts:\n",
    "        hashmap[fontname] = set()\n",
    "        # Loop through characters\n",
    "        for char in chars:\n",
    "            # Render characters\n",
    "            img = draw_char(char * 4, '../fonts/' + fontfile, 250)\n",
    "            # Detect characters with OCR\n",
    "            result = reader.readtext(img, allowlist=chars)\n",
    "\n",
    "            # If character detected\n",
    "            if len(result) > 0:\n",
    "                # Calculate most character appear\n",
    "                most_char, total = collections.Counter(result[0][1]).most_common(1)[0]\n",
    "                # If char not the same\n",
    "                if most_char.lower() == char.lower():\n",
    "                    if char not in setmap or swaps[index][char] == char:\n",
    "                        # True Negative\n",
    "                        y_true.append('Real')\n",
    "                        y_pred.append('Real')\n",
    "                    else:\n",
    "                        # False Negative\n",
    "                        y_true.append('Fake')\n",
    "                        y_pred.append('Real')\n",
    "                        print(char)\n",
    "                else:\n",
    "                    # Add to hash map\n",
    "                    hashmap[fontname].add(char)\n",
    "\n",
    "                    # Print char\n",
    "                    if char not in setmap:\n",
    "                        # False Positive\n",
    "                        y_true.append('Real')\n",
    "                        y_pred.append('Fake')\n",
    "                        print(char)\n",
    "                    else:\n",
    "                        # True Positive\n",
    "                        y_true.append('Fake')\n",
    "                        y_pred.append('Fake')\n",
    "\n",
    "                # Char in font not embedded\n",
    "            elif char not in setmap or swaps[index][char] == char:\n",
    "                # True Negative\n",
    "                y_true.append('Real')\n",
    "                y_pred.append('Real')\n",
    "            elif char in setmap:\n",
    "                hashmap[fontname].add(char)\n",
    "                # True Positive\n",
    "                y_true.append('Fake')\n",
    "                y_pred.append('Fake')\n",
    "\n",
    "        if len(hashmap[fontname]) == 0:\n",
    "            del hashmap[fontname]\n",
    "\n",
    "    cm = confusion_matrix(y_true, y_pred)\n",
    "    if not np.array_equal(cm, [[4,0],[0,58]]):\n",
    "        print(\"File :\", os.path.basename(pdfpath))\n",
    "        print(\"Accuracy Score :\", accuracy_score(y_true, y_pred))\n",
    "        print(\"Precision Score :\", precision_score(y_true, y_pred, pos_label='Fake'))\n",
    "        print(\"Recall Score :\", recall_score(y_true, y_pred, pos_label='Fake'))\n",
    "        print(\"F1 Score :\", f1_score(y_true, y_pred, pos_label='Fake'))\n",
    "        ConfusionMatrixDisplay.from_predictions(y_true, y_pred, cmap='gray')\n",
    "        plt.show()\n",
    "    else:\n",
    "        print(\"File :\", os.path.basename(pdfpath))\n",
    "        print(\"Accuracy Score :\", accuracy_score(y_true, y_pred))"
   ],
   "metadata": {
    "collapsed": false
   }
  },
  {
   "cell_type": "markdown",
   "source": [
    "# Just extract font"
   ],
   "metadata": {
    "collapsed": false
   }
  },
  {
   "cell_type": "code",
   "execution_count": 12,
   "outputs": [
    {
     "name": "stderr",
     "output_type": "stream",
     "text": [
      "100%|██████████| 14/14 [00:00<00:00, 200.05it/s]\n"
     ]
    }
   ],
   "source": [
    "for index, pdfpath in tqdm(docs):\n",
    "    # Open file\n",
    "    pdf = fitz.open(pdfpath)\n",
    "\n",
    "    # Get all fonts across document\n",
    "    fonts = list({el for i in range(pdf.page_count) for el in pdf.get_page_fonts(i)})\n",
    "    embedded_fonts = []\n",
    "\n",
    "    # Loop through fonts\n",
    "    for font in fonts:\n",
    "        # Extract font\n",
    "        name, ext, _, content = pdf.extract_font(font[0])\n",
    "        name = name.split('+')[-1]\n",
    "\n",
    "        # If font is embedded\n",
    "        if ext == 'ttf' and \"TNR\" in name:\n",
    "            # Write fonts\n",
    "            filename = os.path.basename(pdfpath) + \" -- \" + name + \" -- \" + str(font[0]) + \".\" + ext\n",
    "            f = open(\"../fonts/\" + filename, \"wb\")\n",
    "            f.write(content)\n",
    "            f.close()\n",
    "\n",
    "    pdf.close()\n"
   ],
   "metadata": {
    "collapsed": false
   }
  },
  {
   "cell_type": "code",
   "execution_count": null,
   "outputs": [],
   "source": [],
   "metadata": {
    "collapsed": false
   }
  }
 ],
 "metadata": {
  "kernelspec": {
   "display_name": "Python 3",
   "language": "python",
   "name": "python3"
  },
  "language_info": {
   "codemirror_mode": {
    "name": "ipython",
    "version": 2
   },
   "file_extension": ".py",
   "mimetype": "text/x-python",
   "name": "python",
   "nbconvert_exporter": "python",
   "pygments_lexer": "ipython2",
   "version": "2.7.6"
  }
 },
 "nbformat": 4,
 "nbformat_minor": 0
}
